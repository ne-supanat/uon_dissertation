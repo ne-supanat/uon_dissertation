{
 "cells": [
  {
   "cell_type": "code",
   "execution_count": 19,
   "id": "d496b2b3",
   "metadata": {},
   "outputs": [],
   "source": [
    "# from transformers import BertTokenizer, BertModel\n",
    "from bert_score import BERTScorer\n",
    "import numpy as np\n",
    "\n",
    "# BERTScore explain and examples\n",
    "# Ref: https://medium.com/@abonia/bertscore-explained-in-5-minutes-0b98553bfb71\n",
    "\n",
    "def calculate_score(candidate_text, reference_text):\n",
    "    # BERTScore calculation\n",
    "    scorer = BERTScorer(model_type=\"bert-base-uncased\")\n",
    "\n",
    "    scores = []\n",
    "    for candidate in [c.strip() for c in candidate_text.strip().split(\".\")]:\n",
    "        if candidate == \"\":\n",
    "            continue\n",
    "        best_score = 0\n",
    "\n",
    "        for reference in [c.strip() for c in reference_text.strip().split(\".\")]:\n",
    "            if reference == \"\":\n",
    "                continue\n",
    "\n",
    "            P, R, F1 = scorer.score(cands=[candidate], refs=[reference])\n",
    "\n",
    "            if F1 > best_score:\n",
    "                best_score = F1\n",
    "\n",
    "        scores.append(best_score)\n",
    "\n",
    "    return np.mean(scores)"
   ]
  },
  {
   "cell_type": "code",
   "execution_count": 21,
   "id": "d1e69289",
   "metadata": {},
   "outputs": [
    {
     "name": "stdout",
     "output_type": "stream",
     "text": [
      "Round 1 - F1 Mean: 0.5854\n"
     ]
    }
   ],
   "source": [
    "candidate_full_list = [\n",
    "    \"The participant's commuter behavior is characterized by walking, driven by cost, health, and dog exercise. They don't own a car and prioritize walking over public transport for short distances. Shopping trips are frequent and spontaneous, influenced by proximity to the train station and local shops. They are moderately concerned about environmental issues, linking them to poverty and health. They express a desire to be more environmentally friendly but acknowledge cost as a barrier. They are happy with recycling ethos in their neighborhood but concerned about litter.\",\n",
    "]\n",
    "reference_full_list = [\n",
    "    \"The participant is aware of environmental issues, particularly regarding plastic bag usage. The participant has mixed feelings about plastic bags, acknowledging their utility and reusability while also recognizing their negative environmental impact. The participant is annoyed by the plastic bag charge but understands its purpose in promoting more sustainable behavior. The participant believes the charge will encourage better organization and planning regarding shopping bags. The participant is concerned about the end use of the money collected from the charge. The participant is moderately concerned about environmental issues, linking them to poverty and health.\",\n",
    "]\n",
    "\n",
    "for i in range(len(candidate_full_list)):\n",
    "    print(\n",
    "        f\"Round {i+1} - F1 Mean: {calculate_score(candidate_full_list[i], reference_full_list[i]):.4f}\"\n",
    "    )"
   ]
  }
 ],
 "metadata": {
  "kernelspec": {
   "display_name": "Python 3",
   "language": "python",
   "name": "python3"
  },
  "language_info": {
   "codemirror_mode": {
    "name": "ipython",
    "version": 3
   },
   "file_extension": ".py",
   "mimetype": "text/x-python",
   "name": "python",
   "nbconvert_exporter": "python",
   "pygments_lexer": "ipython3",
   "version": "3.12.4"
  }
 },
 "nbformat": 4,
 "nbformat_minor": 5
}
